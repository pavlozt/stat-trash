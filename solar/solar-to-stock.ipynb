{
 "cells": [
  {
   "cell_type": "markdown",
   "id": "2a6eb4c3-1239-4283-8084-73c2453c095e",
   "metadata": {},
   "source": [
    "# Исследование корреляции солнечной активности и биржи"
   ]
  },
  {
   "cell_type": "code",
   "execution_count": null,
   "id": "3628a1b9-beab-49d8-927b-8b8e1b2b7a21",
   "metadata": {},
   "outputs": [],
   "source": [
    "import pandas as pd"
   ]
  },
  {
   "cell_type": "code",
   "execution_count": null,
   "id": "192ef773-5150-4d68-bc27-f2f45987acf4",
   "metadata": {},
   "outputs": [],
   "source": [
    "#url = 'https://www.spaceweather.gc.ca/solar_flux_data/daily_flux_values/fluxtable.txt'\n",
    "df = pd.read_csv('fluxtable.txt', delim_whitespace=True, skiprows=[1])\n",
    "\n",
    "# Объединяем fluxdate и fluxtime в одно поле timestamp\n",
    "df['timestamp'] = pd.to_datetime(df['fluxdate'].astype(str) + df['fluxtime'].astype(str), format='%Y%m%d%H%M%S')\n",
    "\n",
    "# Удаляем старые колонки fluxdate и fluxtime\n",
    "df.drop(columns=['fluxdate', 'fluxtime'], inplace=True)\n",
    "\n",
    "# Перемещаем колонку timestamp в начало\n",
    "df = df[['timestamp'] + [col for col in df.columns if col != 'timestamp']]\n",
    "df.head(3)"
   ]
  },
  {
   "cell_type": "code",
   "execution_count": null,
   "id": "8fe3b18e-1986-4b56-84ba-fbf7ad5062bb",
   "metadata": {},
   "outputs": [],
   "source": [
    "solar=df.set_index('timestamp')[['fluxadjflux']].resample('D').mean().reset_index()\n",
    "solar.head(3)"
   ]
  },
  {
   "cell_type": "code",
   "execution_count": null,
   "id": "69d4d6b7-c8dd-4eef-9566-e8750652f365",
   "metadata": {},
   "outputs": [],
   "source": [
    "import yfinance as yf"
   ]
  },
  {
   "cell_type": "code",
   "execution_count": null,
   "id": "8ca37a3e-558e-4bf5-8ae6-6b6e8b7c3aba",
   "metadata": {},
   "outputs": [],
   "source": [
    "tickers = '''AAPL, MSFT, AMZN, GOOGL, META, TSLA, JNJ, JPM, V, PG, NVDA, WMT, \n",
    "             DIS, BAC, MA, INTC, PFE, XOM, NFLX, ADBE, CRM, KO, PEP, GE'''\n",
    "\n",
    "# Загружаем данные с конкретной начальной даты\n",
    "raw_data = yf.download(\n",
    "    tickers=tickers,\n",
    "    start=\"2004-10-28\",\n",
    "    interval=\"1d\",\n",
    "    progress=True,\n",
    "    group_by='ticker',\n",
    "    threads=True ,\n",
    ")"
   ]
  },
  {
   "cell_type": "code",
   "execution_count": null,
   "id": "e4e561a1-d4a0-48ec-b732-e02948b4cd0d",
   "metadata": {},
   "outputs": [],
   "source": [
    "raw_data.head(3)"
   ]
  },
  {
   "cell_type": "code",
   "execution_count": null,
   "id": "96a59b4c-0a52-40b8-9a85-3dc9aa556f23",
   "metadata": {},
   "outputs": [],
   "source": [
    "# Извлекаем цены закрытия и преобразуем структуру\n",
    "close_prices = (\n",
    "    raw_data\n",
    "    .xs('Close', level=1, axis=1)      # Выбираем уровень Close\n",
    "    .sort_index()                       # Сортируем по времени\n",
    ")\n",
    "close_prices.head(3)"
   ]
  },
  {
   "cell_type": "code",
   "execution_count": null,
   "id": "3a052108-0f35-4a3d-a7b5-b3a9ef6ecd8c",
   "metadata": {},
   "outputs": [],
   "source": [
    "# Для солнечных данных\n",
    "solar = df.set_index('timestamp')[['fluxadjflux']].resample('D').mean()\n",
    "\n",
    "# Для цен акций (ваш текущий код)\n",
    "close_prices = raw_data.xs('Close', level=1, axis=1).sort_index()\n",
    "\n",
    "# Объединяем данные в один DataFrame\n",
    "combined = solar.join(close_prices, how='inner').dropna()\n",
    "\n",
    "\n",
    "combined.head(5)"
   ]
  },
  {
   "cell_type": "code",
   "execution_count": null,
   "id": "fb9a663b-34cf-49e9-86ac-e67ba85879a4",
   "metadata": {},
   "outputs": [],
   "source": [
    "# Рассчитываем корреляции с статистической значимостью\n",
    "from scipy.stats import pearsonr\n",
    "ticker_columns = [col for col in combined.columns if col != 'fluxadjflux']\n",
    "\n",
    "corr_list = []\n",
    "for ticker in ticker_columns:\n",
    "    r, p_value = pearsonr(combined['fluxadjflux'], combined[ticker])\n",
    "    corr_list.append({\n",
    "        'Ticker': ticker,\n",
    "        'Correlation': r,\n",
    "        'p-value': p_value,\n",
    "        'Significant (5%)': p_value < 0.05\n",
    "    })\n",
    "\n",
    "corr_df = pd.DataFrame(corr_list).sort_values('Correlation', key=abs, ascending=False)\n",
    "\n",
    "print(\"Детализированные результаты корреляции:\")\n",
    "print(corr_df)"
   ]
  },
  {
   "cell_type": "markdown",
   "id": "8b770825-75b0-4c82-882d-a00b52d721f8",
   "metadata": {},
   "source": [
    "# Проверка"
   ]
  },
  {
   "cell_type": "markdown",
   "id": "5d0044f1-2208-48ba-95c9-a9f136dc47aa",
   "metadata": {},
   "source": [
    "Если эффект есть, значит он должен быть устойчивым.\n",
    "Просто разделим данные на два промежутка. Выберем дату произвольно"
   ]
  },
  {
   "cell_type": "code",
   "execution_count": null,
   "id": "1e0c7c6d-fbde-4caa-b972-6b884d696635",
   "metadata": {},
   "outputs": [],
   "source": [
    "# Разделяем данные на две части по дате\n",
    "split_date = '2019-01-01'\n",
    "\n",
    "combined_before = combined.loc[:split_date]  # Все данные ДО 2019-01-01\n",
    "combined_after = combined.loc[split_date:]   # Все данные ПОСЛЕ 2019-01-01 (включительно)"
   ]
  },
  {
   "cell_type": "code",
   "execution_count": null,
   "id": "bbf602d2-5f45-40b3-8ec6-23c8ccb9fc5c",
   "metadata": {},
   "outputs": [],
   "source": [
    "combined_before.head(3)"
   ]
  },
  {
   "cell_type": "code",
   "execution_count": null,
   "id": "d9226d0d-2db7-4786-8d64-39c161977026",
   "metadata": {},
   "outputs": [],
   "source": [
    "combined_after.head(3)"
   ]
  },
  {
   "cell_type": "code",
   "execution_count": null,
   "id": "79222ba3-1a6a-4317-b23d-982272346e94",
   "metadata": {},
   "outputs": [],
   "source": [
    "\n",
    "# Создаем функцию для расчета корреляций\n",
    "def calculate_correlations(df):\n",
    "    corr_list = []\n",
    "    for ticker in df.columns.drop('fluxadjflux'):\n",
    "        r, p_value = pearsonr(df['fluxadjflux'], df[ticker])\n",
    "        corr_list.append({\n",
    "            'Ticker': ticker,\n",
    "            'Correlation': r,\n",
    "            'p-value': p_value,\n",
    "            'Significant (5%)': p_value < 0.05\n",
    "        })\n",
    "    return pd.DataFrame(corr_list).sort_values('Correlation', key=abs, ascending=False)\n",
    "\n",
    "# Считаем для первого периода\n",
    "print(\"Корреляции ДО 2019-01-01:\")\n",
    "corr_before = calculate_correlations(combined_before)\n",
    "print(corr_before)\n",
    "\n",
    "# Считаем для второго периода\n",
    "print(\"\\nКорреляции ПОСЛЕ 2019-01-01:\")\n",
    "corr_after = calculate_correlations(combined_after)\n",
    "print(corr_after)"
   ]
  },
  {
   "cell_type": "markdown",
   "id": "0fe90906-7fa3-4dbc-9a7e-8aef9c0831d1",
   "metadata": {},
   "source": [
    "**ВЫВОДЫ**: Эффект не повторился в двух разных промежутках времени\n"
   ]
  },
  {
   "cell_type": "markdown",
   "id": "8b1c6aa5-ff67-447d-a089-1cc7f33c7265",
   "metadata": {},
   "source": [
    "# Графики\n",
    "все же попробуем графически понять почему некоторые тикеры  хорошо коррелируют"
   ]
  },
  {
   "cell_type": "code",
   "execution_count": null,
   "id": "678de5bd-ec80-4ad3-9c65-be69ba0047a6",
   "metadata": {},
   "outputs": [],
   "source": [
    "import matplotlib.pyplot as plt\n",
    "import seaborn as sns\n",
    "\n",
    "def analyze_ticker_correlation(ticker, df=combined):\n",
    "    \"\"\"\n",
    "    Анализирует корреляцию между солнечной активностью и указанным тикером.\n",
    "    \n",
    "    Параметры:\n",
    "    ticker (str): Название тикера (например, 'XOM')\n",
    "    df (DataFrame): DataFrame с данными (по умолчанию combined)\n",
    "    \"\"\"\n",
    "    # Проверка наличия тикера\n",
    "    if ticker not in df.columns:\n",
    "        print(f\"Ошибка: Тикер {ticker} отсутствует в данных\")\n",
    "        return\n",
    "    \n",
    "    # Создаем копию данных для безопасной обработки\n",
    "    data = df[['fluxadjflux', ticker]].copy()\n",
    "    \n",
    "    # Нормализация данных\n",
    "    def manual_minmax_scale(series):\n",
    "        return (series - series.min()) / (series.max() - series.min())\n",
    "    \n",
    "    data_norm = pd.DataFrame({\n",
    "        'fluxadjflux_norm': manual_minmax_scale(data['fluxadjflux']),\n",
    "        f'{ticker}_norm': manual_minmax_scale(data[ticker])\n",
    "    }, index=data.index)\n",
    "    \n",
    "    # График временных рядов\n",
    "    plt.figure(figsize=(14, 6))\n",
    "    plt.title(f'Сравнение нормализованных рядов: Солнечная активность vs {ticker}')\n",
    "    \n",
    "    plt.plot(data_norm['fluxadjflux_norm'], \n",
    "             label='Solar Flux (norm)', \n",
    "             color='orange',\n",
    "             alpha=0.7)\n",
    "    \n",
    "    plt.plot(data_norm[f'{ticker}_norm'], \n",
    "             label=f'{ticker} Price (norm)', \n",
    "             color='blue',\n",
    "             alpha=0.5,\n",
    "             linestyle='--')\n",
    "    \n",
    "    plt.legend()\n",
    "    plt.xlabel('Дата')\n",
    "    plt.ylabel('Нормализованные значения')\n",
    "    plt.grid(True)\n",
    "    plt.show()\n",
    "    \n",
    "    # Scatter plot с регрессией\n",
    "    plt.figure(figsize=(8, 6))\n",
    "    sns.regplot(x=data['fluxadjflux'], \n",
    "                y=data[ticker],\n",
    "                scatter_kws={'alpha':0.3, 'color':'green'},\n",
    "                line_kws={'color':'red'})\n",
    "    \n",
    "    plt.title(f'Корреляция: Солнечный Flux vs Цена {ticker}')\n",
    "    plt.xlabel('Solar Flux Adjusted')\n",
    "    plt.ylabel(f'{ticker} Stock Price')\n",
    "    plt.grid(True)\n",
    "    \n",
    "    # Рассчет корреляции\n",
    "    r = data['fluxadjflux'].corr(data[ticker])\n",
    "    plt.annotate(f'Pearson r = {r:.2f}\\nN = {len(data):,}', \n",
    "                 xy=(0.05, 0.95), \n",
    "                 xycoords='axes fraction',\n",
    "                 fontsize=12,\n",
    "                 bbox=dict(facecolor='white', alpha=0.8))\n",
    "    \n",
    "    plt.show()\n"
   ]
  },
  {
   "cell_type": "markdown",
   "id": "c546df27-725b-4b47-9603-574fdb35888f",
   "metadata": {},
   "source": [
    "Нарисуем лучший случай"
   ]
  },
  {
   "cell_type": "code",
   "execution_count": null,
   "id": "5bb4f120-f1bf-4a37-bd5b-5854a337819e",
   "metadata": {},
   "outputs": [],
   "source": [
    "\n",
    "analyze_ticker_correlation('XOM')"
   ]
  },
  {
   "cell_type": "markdown",
   "id": "7472df6f-9a2c-4ae6-bb78-746ceb2768b2",
   "metadata": {},
   "source": [
    "Нарисуем худший случай"
   ]
  },
  {
   "cell_type": "code",
   "execution_count": null,
   "id": "298f8663-81cb-46ce-aa26-172c8577b208",
   "metadata": {},
   "outputs": [],
   "source": [
    "analyze_ticker_correlation('PFE')"
   ]
  },
  {
   "cell_type": "markdown",
   "id": "03be99ac-bc4c-419b-a2ba-8c10650758c4",
   "metadata": {},
   "source": [
    "# Выводы\n",
    "\n",
    "- На Солнце есть длинные циклы.\n",
    "- Иногда эти циклы совпадают с развитием компаний.\n",
    "- Иногда эта корреляция довольно высокая"
   ]
  },
  {
   "cell_type": "code",
   "execution_count": null,
   "id": "60fdf253-3b13-4f4b-908f-c2ce9b5b26dd",
   "metadata": {},
   "outputs": [],
   "source": []
  }
 ],
 "metadata": {
  "kernelspec": {
   "display_name": "Python 3 (ipykernel)",
   "language": "python",
   "name": "python3"
  },
  "language_info": {
   "codemirror_mode": {
    "name": "ipython",
    "version": 3
   },
   "file_extension": ".py",
   "mimetype": "text/x-python",
   "name": "python",
   "nbconvert_exporter": "python",
   "pygments_lexer": "ipython3",
   "version": "3.11.3"
  }
 },
 "nbformat": 4,
 "nbformat_minor": 5
}
